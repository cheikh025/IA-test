{
 "cells": [
  {
   "cell_type": "code",
   "execution_count": 1,
   "metadata": {},
   "outputs": [],
   "source": [
    "import pulp\n",
    "import numpy as np\n",
    "import time\n"
   ]
  },
  {
   "cell_type": "markdown",
   "metadata": {},
   "source": [
    "### 1. Parameters definition"
   ]
  },
  {
   "cell_type": "code",
   "execution_count": 2,
   "metadata": {},
   "outputs": [
    {
     "name": "stdout",
     "output_type": "stream",
     "text": [
      "Quantization Levels (Q): [-4.         -2.85714286 -1.71428571 -0.57142857  0.57142857  1.71428571\n",
      "  2.85714286  4.        ]\n"
     ]
    }
   ],
   "source": [
    "# Original vector\n",
    "v = [3.2, -1.4, 2.5, -0.9, 1.8, -3.7, 0.0, 4.0, 2.2, -1.3]\n",
    "\n",
    "# 3-bit quantization: 8 levels uniformly distributed from -4 to 4\n",
    "num_bits = 3\n",
    "num_levels = 2 ** num_bits  # 8 levels\n",
    "min_val = -4\n",
    "max_val = 4\n",
    "\n",
    "# Generate quantization levels\n",
    "Q = np.linspace(min_val, max_val, num=num_levels)\n",
    "print(\"Quantization Levels (Q):\", Q)"
   ]
  },
  {
   "cell_type": "markdown",
   "metadata": {},
   "source": [
    "### 2. Optimization problem"
   ]
  },
  {
   "cell_type": "code",
   "execution_count": 3,
   "metadata": {},
   "outputs": [],
   "source": [
    "def vector_quantization_optimization(v, Q):\n",
    "    # Initialize the optimization problem\n",
    "    prob = pulp.LpProblem(\"Vector_Quantization\", pulp.LpMinimize)\n",
    "\n",
    "    vector_indices = range(len(v))         \n",
    "    quant_levels_indices = range(len(Q))  \n",
    "\n",
    "    # Define decision variables\n",
    "    x_vars = pulp.LpVariable.dicts(\"x\",\n",
    "                                    ((i, j) for i in vector_indices for j in quant_levels_indices),\n",
    "                                    cat='Binary') \n",
    "\n",
    "    # Define the objective function: minimize the sum of L2 norms\n",
    "    prob += pulp.lpSum([x_vars[(i, j)] * (v[i] - Q[j]) ** 2\n",
    "                        for i in vector_indices\n",
    "                        for j in quant_levels_indices]), \"Objective\"\n",
    "\n",
    "    # Add constraints: Each vector element is assigned to exactly one quantization level\n",
    "    for i in vector_indices:\n",
    "        prob += pulp.lpSum([x_vars[(i, j)] for j in quant_levels_indices]) == 1, f\"Assignment_{i}\"\n",
    "    return prob, x_vars"
   ]
  },
  {
   "cell_type": "markdown",
   "metadata": {},
   "source": [
    "### 3. Solution of the optimization problem"
   ]
  },
  {
   "cell_type": "code",
   "execution_count": 4,
   "metadata": {},
   "outputs": [
    {
     "name": "stdout",
     "output_type": "stream",
     "text": [
      "Original Vector: [3.2, -1.4, 2.5, -0.9, 1.8, -3.7, 0.0, 4.0, 2.2, -1.3]\n",
      "Quantized Vector: [2.8571428571428568, -1.7142857142857144, 2.8571428571428568, -0.5714285714285716, 1.7142857142857135, -4.0, -0.5714285714285716, 4.0, 1.7142857142857135, -1.7142857142857144]\n",
      "L2 Norm: 1.1328130058056582\n"
     ]
    }
   ],
   "source": [
    "def Lp_quantization_assignment(v, Q):\n",
    "    # Solve the optimization problem\n",
    "    prob, x_vars = vector_quantization_optimization(v, Q)\n",
    "    prob.solve()\n",
    "    \n",
    "    # Check if the solution is optimal\n",
    "    if pulp.LpStatus[prob.status] == \"Optimal\":\n",
    "        # Extract quantized vector\n",
    "        quant_levels_indices = range(len(Q))\n",
    "        vector_indices = range(len(v))\n",
    "        \n",
    "        q = []\n",
    "        for i in vector_indices:\n",
    "            for j in quant_levels_indices:\n",
    "                if pulp.value(x_vars[(i, j)]) == 1:\n",
    "                    q.append(Q[j])\n",
    "                    break\n",
    "\n",
    "        return q\n",
    "    else:\n",
    "        raise ValueError(\"No optimal solution found!\")\n",
    "\n",
    "# Quantize the vector\n",
    "q= Lp_quantization_assignment(v, Q)\n",
    "print(\"Original Vector:\", v)\n",
    "print(\"Quantized Vector:\", q)\n",
    "\n",
    "# Calculate the L2 norm\n",
    "l2_norm = np.sqrt(sum((vi - qi) ** 2 for vi, qi in zip(v, q)))\n",
    "print(\"L2 Norm:\", l2_norm)\n"
   ]
  },
  {
   "cell_type": "markdown",
   "metadata": {},
   "source": [
    "### 4. Heuristic algorithm"
   ]
  },
  {
   "cell_type": "code",
   "execution_count": 5,
   "metadata": {},
   "outputs": [
    {
     "name": "stdout",
     "output_type": "stream",
     "text": [
      "Quantized vector: [2.8571428571428568, -1.7142857142857144, 2.8571428571428568, -0.5714285714285716, 1.7142857142857135, -4.0, 0.5714285714285712, 4.0, 1.7142857142857135, -1.7142857142857144]\n",
      "L2 Norm: 1.132813005805658\n"
     ]
    }
   ],
   "source": [
    "def heuristic_quantization_assignment(v, Q):\n",
    "    \"\"\"\n",
    "    Assign each element in vector v to the nearest quantization level in Q.\n",
    "    \n",
    "    Parameters:\n",
    "    v (list or array): The vector to quantize.\n",
    "    Q (list or array): Quantization levels \n",
    "    \n",
    "    Returns:\n",
    "    list: Quantized vector with elements from Q.\n",
    "    \"\"\"\n",
    "    # Step 1: Build the boundaries B\n",
    "    B = [(Q[j] + Q[j + 1]) / 2 for j in range(len(Q) - 1)]\n",
    "    B = [-np.inf] + B + [np.inf]\n",
    "    \n",
    "    # Step 2: Quantize each element in v\n",
    "    quantized_v = []\n",
    "    for vi in v:\n",
    "        j = find_largest_index(vi, B)\n",
    "        quantized_v.append(Q[j])\n",
    "    \n",
    "    return quantized_v\n",
    "\n",
    "def find_largest_index(vi, B):\n",
    "    \"\"\"\n",
    "    Find the largest index j for which B[j] ≤ vi < B[j + 1].\n",
    "    \n",
    "    Parameters:\n",
    "    vi (float): The value to find the index for.\n",
    "    B (list): The boundaries.\n",
    "    \n",
    "    Returns:\n",
    "    int: The index j such that B[j] ≤ vi < B[j + 1].\n",
    "    \"\"\"\n",
    "    j = 0\n",
    "    while vi > B[j + 1]:\n",
    "        j += 1\n",
    "    return j\n",
    "\n",
    "quantized_v = heuristic_quantization_assignment(v, Q)\n",
    "print(\"Quantized vector:\", quantized_v)\n",
    "\n",
    "# Calculate the L2 norm\n",
    "l2_norm = np.sqrt(sum((vi - qi) ** 2 for vi, qi in zip(v, quantized_v)))\n",
    "print(\"L2 Norm:\", l2_norm)\n"
   ]
  },
  {
   "cell_type": "markdown",
   "metadata": {},
   "source": [
    "5. Comparison of the heuristic algorithm with the Lp solver"
   ]
  },
  {
   "cell_type": "code",
   "execution_count": null,
   "metadata": {},
   "outputs": [
    {
     "name": "stdout",
     "output_type": "stream",
     "text": [
      "Average Optimization-based quantization time: 22.7139 seconds\n",
      "Average Heuristic quantization time: 0.0421 seconds\n",
      "Average Speedup: 539.55 times\n",
      "Average Optimization-based quantization L2 norm: 763.6547\n",
      "Average Heuristic quantization L2 norm: 763.6547\n",
      "Average Speedup: 540.4701932236557\n"
     ]
    }
   ],
   "source": [
    "num_trials = 10\n",
    "Lp_times = []\n",
    "Lp_L2_norms = []\n",
    "heuristic_times = []\n",
    "heuristic_L2_norms = []\n",
    "\n",
    "# Run the experiment with different seeds and collect timing data\n",
    "for seed in range(num_trials):\n",
    "    np.random.seed(seed)\n",
    "    v_large = np.random.normal(loc=0, scale=5, size=100000)\n",
    "\n",
    "    # Time the optimization-based quantization\n",
    "    start_time = time.time()\n",
    "    quantized_v_opt = Lp_quantization_assignment(v_large, Q)\n",
    "    end_time = time.time()\n",
    "    Lp_times.append(end_time - start_time)\n",
    "    lp_l2_norm = np.sqrt(sum((vi - qi) ** 2 for vi, qi in zip(v_large, quantized_v_opt)))\n",
    "    Lp_L2_norms.append(lp_l2_norm)\n",
    "\n",
    "    # Time the heuristic quantization\n",
    "    start_time = time.time()\n",
    "    quantized_v_heuristic = heuristic_quantization_assignment(v_large, Q)\n",
    "    end_time = time.time()\n",
    "    heuristic_times.append(end_time - start_time)\n",
    "    heuristic_l2_norm = np.sqrt(sum((vi - qi) ** 2 for vi, qi in zip(v_large, quantized_v_heuristic)))\n",
    "    heuristic_L2_norms.append(heuristic_l2_norm)\n",
    "# Calculate speedup for each instance\n",
    "instance_speedups = [Lp_time / heuristic_time for Lp_time, heuristic_time in zip(Lp_times, heuristic_times)]\n",
    "\n",
    "# Calculate average times\n",
    "avg_Lp_time = np.mean(Lp_times)\n",
    "avg_heuristic_time = np.mean(heuristic_times)\n",
    "avg_Lp_L2_norm = np.mean(Lp_L2_norms)\n",
    "avg_heuristic_L2_norm = np.mean(heuristic_L2_norms)\n",
    "avg_speedup = np.mean(instance_speedups)\n",
    "\n",
    "# Display results\n",
    "print(f\"Average Optimization-based quantization time: {avg_Lp_time:.4f} seconds\")\n",
    "print(f\"Average Heuristic quantization time: {avg_heuristic_time:.4f} seconds\")\n",
    "print(f\"Average Speedup: {avg_speedup:.2f} times\")\n",
    "print(f\"Average Optimization-based quantization L2 norm: {avg_Lp_L2_norm:.4f}\")\n",
    "print(f\"Average Heuristic quantization L2 norm: {avg_heuristic_L2_norm:.4f}\")\n"
   ]
  }
 ],
 "metadata": {
  "kernelspec": {
   "display_name": "base",
   "language": "python",
   "name": "python3"
  },
  "language_info": {
   "codemirror_mode": {
    "name": "ipython",
    "version": 3
   },
   "file_extension": ".py",
   "mimetype": "text/x-python",
   "name": "python",
   "nbconvert_exporter": "python",
   "pygments_lexer": "ipython3",
   "version": "3.10.14"
  }
 },
 "nbformat": 4,
 "nbformat_minor": 2
}
